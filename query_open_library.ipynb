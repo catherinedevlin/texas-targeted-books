{
 "cells": [
  {
   "cell_type": "markdown",
   "id": "1fb6e636-2510-4edf-a41f-13bc41fe0d48",
   "metadata": {},
   "source": [
    "Yes, I know it's sloppy.  "
   ]
  },
  {
   "cell_type": "code",
   "execution_count": null,
   "id": "e4337243-755c-48e8-883d-eb4aafcb49ed",
   "metadata": {
    "tags": []
   },
   "outputs": [],
   "source": [
    "import requests\n",
    "import re \n",
    "import tabula\n",
    "import pandas as pd\n",
    "import urllib \n",
    "import time\n",
    "import numpy \n",
    "import sqlite3\n",
    "\n",
    "# Read pdf into list of DataFrame\n",
    "partial_tables = tabula.read_pdf(\"krausebooklist.pdf\", pages='all')\n",
    "df = pd.concat(partial_tables)"
   ]
  },
  {
   "cell_type": "code",
   "execution_count": null,
   "id": "9db24c10-44da-40d3-88f7-2fc63df4cf8e",
   "metadata": {
    "tags": []
   },
   "outputs": [],
   "source": [
    "def from_search_results(resp):\n",
    "    if resp.json().get('numFound'):\n",
    "        doc = resp.json()['docs'][0]\n",
    "        return [doc['key'], doc.get('isbn', [None])[0], doc.get('first_sentence'), doc.get('subject')]\n",
    "    return ['', '', [], []]\n",
    "\n",
    "def lookup(row):\n",
    "    try:\n",
    "        tries_remaining = 5\n",
    "        while tries_remaining > 0:\n",
    "            time.sleep(3)\n",
    "            title = row['Title'].split(\":\")[0]\n",
    "            author = row['Author'].split(\",\")[0]\n",
    "            solr_qry = urllib.parse.quote(f\"{title} {author}\")\n",
    "            url = f\"http://openlibrary.org/search.json?q={solr_qry}\"\n",
    "            print(url)\n",
    "            resp = requests.get(url)\n",
    "            # print(f\"{resp.ok} {resp.status_code} {resp.reason}\")\n",
    "            if resp.ok:\n",
    "                result = from_search_results(resp)\n",
    "                return result\n",
    "            if resp.status_code >= 500:\n",
    "                time.sleep(10)\n",
    "                tries_remaining -= 1 \n",
    "            else:\n",
    "                break\n",
    "        return ['', '', [], []]\n",
    "    except Exception as exc:\n",
    "        print(exc)\n",
    "        return ['', '', [], []]\n",
    "\n",
    "df['ol_info'] = df.apply(lookup, axis=1)"
   ]
  },
  {
   "cell_type": "code",
   "execution_count": null,
   "id": "7a8c56ef-fa5f-4726-84fe-5b49067dc672",
   "metadata": {
    "tags": []
   },
   "outputs": [],
   "source": [
    "field_names = ('ol_link', 'isbn', 'first_sentence', 'subjects')\n",
    "for (idx, field_name) in enumerate(field_names):\n",
    "    df[field_name] = df.ol_info.apply(lambda lst: lst[idx])"
   ]
  },
  {
   "cell_type": "code",
   "execution_count": null,
   "id": "935fe482-1080-4a2e-821b-f309ca5aa12d",
   "metadata": {
    "tags": []
   },
   "outputs": [],
   "source": [
    "df['id'] = numpy.arange(len(df))"
   ]
  },
  {
   "cell_type": "code",
   "execution_count": null,
   "id": "4e22d4dc-f9e9-4582-86b3-6e5a9254b302",
   "metadata": {
    "tags": []
   },
   "outputs": [],
   "source": [
    "subjects = []\n",
    "def extract_subjects(row):\n",
    "    for subj in (row.subjects or []):\n",
    "        subjects.append((row.id, subj))\n",
    "df.apply(extract_subjects, axis=1)        "
   ]
  },
  {
   "cell_type": "code",
   "execution_count": null,
   "id": "145520ef-a9f7-48e5-9bc0-2ec10d0dca22",
   "metadata": {
    "tags": []
   },
   "outputs": [],
   "source": [
    "subjects_df = pd.DataFrame(subjects, columns=['book_id', 'subject'])"
   ]
  },
  {
   "cell_type": "code",
   "execution_count": null,
   "id": "407be7d4-45b7-40b1-84e0-c8d9a635ec06",
   "metadata": {
    "tags": []
   },
   "outputs": [],
   "source": [
    "df['first_sentence_clean'] = df.first_sentence.apply(lambda s: s[0] if s else '')"
   ]
  },
  {
   "cell_type": "code",
   "execution_count": null,
   "id": "f9bd90ad-7c0a-47ea-b986-3ff04c6f6d28",
   "metadata": {
    "tags": []
   },
   "outputs": [],
   "source": [
    "fields = ['id', 'Title', 'Author', 'Published', 'ol_link', 'isbn', 'first_sentence_clean', ]"
   ]
  },
  {
   "cell_type": "code",
   "execution_count": null,
   "id": "dd136073-e9f1-436e-b9c0-be3424f8f253",
   "metadata": {
    "tags": []
   },
   "outputs": [],
   "source": [
    "final = df[fields]"
   ]
  },
  {
   "cell_type": "code",
   "execution_count": null,
   "id": "64963990-0723-428c-9f90-be79e1915376",
   "metadata": {
    "tags": []
   },
   "outputs": [],
   "source": [
    "final = final.rename({'first_sentence_clean': 'first_sentence'}, axis=1)"
   ]
  },
  {
   "cell_type": "code",
   "execution_count": null,
   "id": "b378bd97-f47b-4b1f-aa30-82929412f37d",
   "metadata": {},
   "outputs": [],
   "source": [
    "final = final.set_index('id')"
   ]
  },
  {
   "cell_type": "code",
   "execution_count": null,
   "id": "7a2e1422-f599-4ca2-aa4b-ab7d8e202adb",
   "metadata": {
    "tags": []
   },
   "outputs": [],
   "source": [
    "conn = sqlite3.connect('texas-targeted-books.db')\n",
    "final.to_sql('book', conn, if_exists='replace', index=True)"
   ]
  },
  {
   "cell_type": "code",
   "execution_count": null,
   "id": "ed7bb8d0-38d7-4398-98df-7fadba544148",
   "metadata": {
    "tags": []
   },
   "outputs": [],
   "source": [
    "subjects_df.to_sql('subject', conn, if_exists='replace', index=False)"
   ]
  },
  {
   "cell_type": "code",
   "execution_count": null,
   "id": "4ab1eb31-2986-47d0-84d8-d13ff82700c7",
   "metadata": {},
   "outputs": [],
   "source": [
    "def title(row):\n",
    "    if row.ol_link:\n",
    "        return f'<a href=\"https://openlibrary.org{row.ol_link}\">{row.Title}</a>'\n",
    "    else:\n",
    "        return row.Title"
   ]
  },
  {
   "cell_type": "code",
   "execution_count": null,
   "id": "f8bedd2a-1c4a-4159-961f-7d74b656b8df",
   "metadata": {
    "tags": []
   },
   "outputs": [],
   "source": [
    "def row_string(row):\n",
    "    return(f\"\"\"<tr><td>{title(row)}</td><td>{row.Author}</td>\n",
    "        <td>{row.Published}</td><td>{row.isbn}</td>    \n",
    "        <td>{', '.join(row.subjects or [])}</td>\n",
    "        </tr>\n",
    "        \"\"\")"
   ]
  },
  {
   "cell_type": "code",
   "execution_count": null,
   "id": "42b936d0-b756-4741-af6d-d386b1104c45",
   "metadata": {},
   "outputs": [],
   "source": [
    "rows = \"\\n\".join(df.sort_values(['Title', 'Published']).apply(row_string, axis=1))"
   ]
  },
  {
   "cell_type": "code",
   "execution_count": null,
   "id": "6f498207-1096-40c5-8b4d-0cc39269ba8f",
   "metadata": {},
   "outputs": [],
   "source": [
    "with open(\"README.md\", \"w\") as outfile:\n",
    "    outfile.write(f\"\"\"\n",
    "# Texas-Targeted Books\n",
    "\n",
    "The [Texas Tribune reported](https://www.texastribune.org/2021/10/26/texas-school-books-race-sexuality/)\n",
    "on Oct. 26, 2021 that Texas State Rep. Matt Krause,\n",
    "in his role as chair of the Texas House Committee on General Investigating,\n",
    "opened an official investigation into the presence of hundreds of books\n",
    "in Texas schools, and has required all Texas schools to report on the\n",
    "                books' presence.\n",
    "\n",
    "Here is a best-effort presentation of the Rep. Krause list\n",
    "in RDBMS and HTML table form, with hyperlinks. ISBN numbers,\n",
    "subjects, and links to OpenLibrary\n",
    "entries were made by automated query to the OpenLibrary API;\n",
    "no guarantees on their accuracy.\n",
    "\n",
    "- [List in relational database format](texas-targeted-books.db) ([SQLite](https://sqlite.org/index.html))\n",
    "- [Chair Krause's letter](https://static.texastribune.org/media/files/965725d7f01b8a25ca44b6fde2f5519b/krauseletter.pdf)\n",
    "- [Chair Krause's list](https://static.texastribune.org/media/files/94fee7ff93eff9609f141433e41f8ae1/krausebooklist.pdf) (PDF)\n",
    "- [Code generating this page](query_open_library.ipynb)\n",
    "\n",
    "<table>\n",
    "  <tr><td>Title</td><td>Author</td><td>Year</td><td>ISBN</td><td>Subjects</td></tr>\n",
    "  {rows}\n",
    "</table>\n",
    "\"\"\")"
   ]
  },
  {
   "cell_type": "code",
   "execution_count": null,
   "id": "d18368d1-5252-47e5-a695-56e75883a080",
   "metadata": {},
   "outputs": [],
   "source": []
  }
 ],
 "metadata": {
  "kernelspec": {
   "display_name": "Python 3 (ipykernel)",
   "language": "python",
   "name": "python3"
  },
  "language_info": {
   "codemirror_mode": {
    "name": "ipython",
    "version": 3
   },
   "file_extension": ".py",
   "mimetype": "text/x-python",
   "name": "python",
   "nbconvert_exporter": "python",
   "pygments_lexer": "ipython3",
   "version": "3.10.1"
  }
 },
 "nbformat": 4,
 "nbformat_minor": 5
}
